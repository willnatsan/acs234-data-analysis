{
 "cells": [
  {
   "cell_type": "markdown",
   "metadata": {},
   "source": [
    "# **Take Home Test #1 (ACS234)**"
   ]
  },
  {
   "cell_type": "markdown",
   "metadata": {},
   "source": [
    "## **Background Information**\n",
    "The dataset, named, LondonAirQuality(2010_2018).csv,  contains information on air quality (monthly averaged data) in London for the period of 2010 to 2018. The `pandas` and `numpy` libraries will be used to analyse said dataset. `matplotlib` will be used for data visualisation."
   ]
  },
  {
   "cell_type": "code",
   "execution_count": 1,
   "metadata": {},
   "outputs": [],
   "source": [
    "import pandas as pd \n",
    "import numpy as np\n",
    "import matplotlib.pyplot as plt"
   ]
  },
  {
   "cell_type": "markdown",
   "metadata": {},
   "source": [
    "Before performing any analysis, the data needs to be extracted from the raw CSV/Excel file into a `DataFrame` object.  "
   ]
  },
  {
   "cell_type": "code",
   "execution_count": 2,
   "metadata": {},
   "outputs": [],
   "source": [
    "df = pd.read_excel(\"LondonAirQuality(2010_2018)_v2.xlsx\")"
   ]
  },
  {
   "cell_type": "markdown",
   "metadata": {},
   "source": [
    "## **Question 1**"
   ]
  },
  {
   "cell_type": "markdown",
   "metadata": {},
   "source": [
    "a. Find the correlation coefficient between y and xi (i = 1, 2, ... 6) respectively. Determine the most appropriate independent variable to select for a simple linear regression model with y."
   ]
  },
  {
   "cell_type": "code",
   "execution_count": 3,
   "metadata": {},
   "outputs": [
    {
     "name": "stdout",
     "output_type": "stream",
     "text": [
      "Correlation Coefficient (y|x1): 0.49\n",
      "Correlation Coefficient (y|x2): 0.66\n",
      "Correlation Coefficient (y|x3): 0.61\n",
      "Correlation Coefficient (y|x4): -0.28\n",
      "Correlation Coefficient (y|x5): 0.37\n",
      "Correlation Coefficient (y|x6): 0.91\n",
      "\n",
      "Strongest Correlation - Background:PM10 Particulate (ug/m3), 0.91\n"
     ]
    }
   ],
   "source": [
    "y = df.columns[-1]\n",
    "x_best = None\n",
    "cc_best = 0\n",
    "\n",
    "for i in range(-7, -1):\n",
    "    x = df.columns[i]\n",
    "    cc_curr = df[y].corr(df[x], method=\"pearson\")\n",
    "    print(f\"Correlation Coefficient (y|x{i+8}): {cc_curr:.2f}\")\n",
    "    if cc_curr > cc_best:\n",
    "        x_best = x\n",
    "        cc_best = cc_curr\n",
    "\n",
    "print(f\"\\nStrongest Correlation - {x_best}, {cc_best:.2f}\")"
   ]
  },
  {
   "cell_type": "markdown",
   "metadata": {},
   "source": [
    "b. Calculate the appropriate coefficients for a simple linear regression model between the best-fit independent variable and y"
   ]
  },
  {
   "cell_type": "code",
   "execution_count": 4,
   "metadata": {},
   "outputs": [
    {
     "name": "stdout",
     "output_type": "stream",
     "text": [
      "m: -3.217, k: 0.853\n"
     ]
    }
   ],
   "source": [
    "k, m = np.polyfit(df[x_best], df[y], 1)\n",
    "print(f\"m: {m:.3f}, k: {k:.3f}\")"
   ]
  },
  {
   "cell_type": "markdown",
   "metadata": {},
   "source": [
    "The solution can be validated using a simple data visualisation"
   ]
  },
  {
   "cell_type": "code",
   "execution_count": 5,
   "metadata": {},
   "outputs": [
    {
     "data": {
      "text/plain": [
       "[<matplotlib.lines.Line2D at 0x2136d733790>]"
      ]
     },
     "execution_count": 5,
     "metadata": {},
     "output_type": "execute_result"
    },
    {
     "data": {
      "image/png": "[encoded data removed]",
      "text/plain": [
       "<Figure size 640x480 with 1 Axes>"
      ]
     },
     "metadata": {},
     "output_type": "display_data"
    }
   ],
   "source": [
    "plt.plot(df[x_best], df[y], 'ro')\n",
    "plt.plot(df[x_best], df[x_best]*k + m)"
   ]
  },
  {
   "cell_type": "markdown",
   "metadata": {},
   "source": [
    "# Question 2"
   ]
  },
  {
   "cell_type": "markdown",
   "metadata": {},
   "source": [
    "a. Fit a *multiple* linear regression model for the dataset using the x1, x2 ... x5 independent variables."
   ]
  },
  {
   "cell_type": "code",
   "execution_count": 6,
   "metadata": {},
   "outputs": [
    {
     "name": "stdout",
     "output_type": "stream",
     "text": [
      "Coefficient (a0): -9.458\n",
      "Coefficient (a1): -0.195\n",
      "Coefficient (a2): 0.317\n",
      "Coefficient (a3): 0.178\n",
      "Coefficient (a4): 0.117\n",
      "Coefficient (a5): 0.532\n"
     ]
    }
   ],
   "source": [
    "X = df[df.columns[-7:-2]].values\n",
    "X_ones = np.c_[np.ones(len(df.index)), X]\n",
    "Y = df[y].values.reshape(-1,1)\n",
    "\n",
    "coefficients = np.matmul(np.linalg.inv(np.matmul(X_ones.T, X_ones)), np.matmul(X_ones.T, Y))\n",
    "\n",
    "for i in range(len(coefficients)):\n",
    "    print(f\"Coefficient (a{i}): {coefficients[i][0]:.3f}\")"
   ]
  },
  {
   "cell_type": "markdown",
   "metadata": {},
   "source": [
    "b. Calculate MSE (mean squared error) and R2 (coefficient of determination) for the fitted model. "
   ]
  },
  {
   "cell_type": "code",
   "execution_count": 7,
   "metadata": {},
   "outputs": [
    {
     "name": "stdout",
     "output_type": "stream",
     "text": [
      "Coefficient of Determination (R^2): 0.565 (56.524%)\n",
      "Mean Squared Error (MSE): 8.390\n"
     ]
    }
   ],
   "source": [
    "Y_mean = np.mean(Y)\n",
    "St = sum((Yi-Y_mean)**2 for Yi in Y)[0]\n",
    "Sr = sum((Y[i]-(-9.458-0.195*X[i][0]+0.317*X[i][1]+0.178*X[i][2]+0.117*X[i][3]+0.532*X[i][4]))**2 for i in range(len(Y)))[0]\n",
    "R2 = (1 - Sr/St)\n",
    "R2_percent = R2*100\n",
    "\n",
    "print(f\"Coefficient of Determination (R^2): {R2:.3f} ({R2_percent:.3f}%)\")\n",
    "\n",
    "MSE = Sr / len(Y)\n",
    "\n",
    "print(f\"Mean Squared Error (MSE): {MSE:.3f}\")"
   ]
  }
 ],
 "metadata": {
  "kernelspec": {
   "display_name": "data",
   "language": "python",
   "name": "python3"
  },
  "language_info": {
   "codemirror_mode": {
    "name": "ipython",
    "version": 3
   },
   "file_extension": ".py",
   "mimetype": "text/x-python",
   "name": "python",
   "nbconvert_exporter": "python",
   "pygments_lexer": "ipython3",
   "version": "3.10.14"
  }
 },
 "nbformat": 4,
 "nbformat_minor": 2
}
